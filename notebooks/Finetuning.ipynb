{
 "cells": [
  {
   "cell_type": "code",
   "execution_count": 1,
   "id": "d61268f7-8b99-4054-9117-e56b1bf05153",
   "metadata": {},
   "outputs": [
    {
     "name": "stderr",
     "output_type": "stream",
     "text": [
      "/home/clement/miniconda3/lib/python3.10/site-packages/torchvision/io/image.py:13: UserWarning: Failed to load image Python extension: 'libc10_cuda.so: cannot open shared object file: No such file or directory'If you don't plan on using image functionality from `torchvision.io`, you can ignore this warning. Otherwise, there might be something wrong with your environment. Did you have `libjpeg` or `libpng` installed before building `torchvision` from source?\n",
      "  warn(\n"
     ]
    }
   ],
   "source": [
    "import sys\n",
    "sys.path.append('../')\n",
    "import timm\n",
    "from stochastic_attention import StochasticVisionTransformer\n",
    "from model_factory import create_model"
   ]
  },
  {
   "cell_type": "code",
   "execution_count": 2,
   "id": "11916c62-8ed8-4788-b461-10872eb18501",
   "metadata": {},
   "outputs": [
    {
     "name": "stdout",
     "output_type": "stream",
     "text": [
      "Image size 512, stride 16, kernel size 32, out_chans 768, output size 31\n"
     ]
    }
   ],
   "source": [
    "timm_model = timm.create_model('vit_base_patch32_384')\n",
    "model = StochasticVisionTransformer(embed_dim=768, depth=12, num_heads=12, kernel_size=32, qkv_bias=True)"
   ]
  },
  {
   "cell_type": "code",
   "execution_count": 3,
   "id": "bd4c82dd-e105-4c54-a79e-0717a8a010b9",
   "metadata": {},
   "outputs": [],
   "source": [
    "my_state_dict = model.state_dict()\n",
    "timm_state_dict = timm_model.state_dict()"
   ]
  },
  {
   "cell_type": "code",
   "execution_count": 4,
   "id": "c223a565-643a-4b96-b157-9a8c032d8bb2",
   "metadata": {},
   "outputs": [],
   "source": [
    "blocks_depth = model.blocks_depth\n",
    "for i, block in enumerate(timm_model.blocks):\n",
    "    block_scale, block_level = divmod(i, blocks_depth)\n",
    "    keys = model.blocks[block_scale].blocks[block_level].load_state_dict(block.state_dict())"
   ]
  },
  {
   "cell_type": "code",
   "execution_count": 5,
   "id": "e16dfb79-36a9-4630-a08f-77ca4f6aec0c",
   "metadata": {},
   "outputs": [
    {
     "data": {
      "text/plain": [
       "_IncompatibleKeys(missing_keys=['pos_embed'], unexpected_keys=[])"
      ]
     },
     "execution_count": 5,
     "metadata": {},
     "output_type": "execute_result"
    }
   ],
   "source": [
    "model.projector.load_state_dict(timm_model.patch_embed.state_dict(), strict=False)"
   ]
  },
  {
   "cell_type": "code",
   "execution_count": 16,
   "id": "49be2878-b6dd-4701-82a3-ac57a6677e7c",
   "metadata": {},
   "outputs": [
    {
     "name": "stdout",
     "output_type": "stream",
     "text": [
      "Image size 512, stride 4, kernel size 16, out_chans 384, output size 125\n"
     ]
    },
    {
     "ename": "AssertionError",
     "evalue": "",
     "output_type": "error",
     "traceback": [
      "\u001b[0;31m---------------------------------------------------------------------------\u001b[0m",
      "\u001b[0;31mAssertionError\u001b[0m                            Traceback (most recent call last)",
      "Cell \u001b[0;32mIn[16], line 4\u001b[0m\n\u001b[1;32m      2\u001b[0m model \u001b[38;5;241m=\u001b[39m create_model(\u001b[38;5;124m'\u001b[39m\u001b[38;5;124msvt_16_small\u001b[39m\u001b[38;5;124m'\u001b[39m, num_classes\u001b[38;5;241m=\u001b[39m\u001b[38;5;241m1000\u001b[39m, img_size\u001b[38;5;241m=\u001b[39m\u001b[38;5;241m512\u001b[39m, max_tokens\u001b[38;5;241m=\u001b[39m\u001b[38;5;241m256\u001b[39m, pretrained\u001b[38;5;241m=\u001b[39m\u001b[38;5;28;01mFalse\u001b[39;00m, scales\u001b[38;5;241m=\u001b[39m\u001b[38;5;241m3\u001b[39m, projection_stride\u001b[38;5;241m=\u001b[39m\u001b[38;5;241m4\u001b[39m)\n\u001b[1;32m      3\u001b[0m foo \u001b[38;5;241m=\u001b[39m torch\u001b[38;5;241m.\u001b[39mrandn(\u001b[38;5;241m2\u001b[39m, \u001b[38;5;241m3\u001b[39m, \u001b[38;5;241m512\u001b[39m, \u001b[38;5;241m512\u001b[39m)\n\u001b[0;32m----> 4\u001b[0m pred, attn \u001b[38;5;241m=\u001b[39m \u001b[43mmodel\u001b[49m\u001b[43m(\u001b[49m\u001b[43mfoo\u001b[49m\u001b[43m)\u001b[49m\n",
      "File \u001b[0;32m~/miniconda3/lib/python3.10/site-packages/torch/nn/modules/module.py:1194\u001b[0m, in \u001b[0;36mModule._call_impl\u001b[0;34m(self, *input, **kwargs)\u001b[0m\n\u001b[1;32m   1190\u001b[0m \u001b[38;5;66;03m# If we don't have any hooks, we want to skip the rest of the logic in\u001b[39;00m\n\u001b[1;32m   1191\u001b[0m \u001b[38;5;66;03m# this function, and just call forward.\u001b[39;00m\n\u001b[1;32m   1192\u001b[0m \u001b[38;5;28;01mif\u001b[39;00m \u001b[38;5;129;01mnot\u001b[39;00m (\u001b[38;5;28mself\u001b[39m\u001b[38;5;241m.\u001b[39m_backward_hooks \u001b[38;5;129;01mor\u001b[39;00m \u001b[38;5;28mself\u001b[39m\u001b[38;5;241m.\u001b[39m_forward_hooks \u001b[38;5;129;01mor\u001b[39;00m \u001b[38;5;28mself\u001b[39m\u001b[38;5;241m.\u001b[39m_forward_pre_hooks \u001b[38;5;129;01mor\u001b[39;00m _global_backward_hooks\n\u001b[1;32m   1193\u001b[0m         \u001b[38;5;129;01mor\u001b[39;00m _global_forward_hooks \u001b[38;5;129;01mor\u001b[39;00m _global_forward_pre_hooks):\n\u001b[0;32m-> 1194\u001b[0m     \u001b[38;5;28;01mreturn\u001b[39;00m \u001b[43mforward_call\u001b[49m\u001b[43m(\u001b[49m\u001b[38;5;241;43m*\u001b[39;49m\u001b[38;5;28;43minput\u001b[39;49m\u001b[43m,\u001b[49m\u001b[43m \u001b[49m\u001b[38;5;241;43m*\u001b[39;49m\u001b[38;5;241;43m*\u001b[39;49m\u001b[43mkwargs\u001b[49m\u001b[43m)\u001b[49m\n\u001b[1;32m   1195\u001b[0m \u001b[38;5;66;03m# Do not call functions when jit is used\u001b[39;00m\n\u001b[1;32m   1196\u001b[0m full_backward_hooks, non_full_backward_hooks \u001b[38;5;241m=\u001b[39m [], []\n",
      "File \u001b[0;32m~/Documents/phd/experimentations/notebooks/../stochastic_attention.py:384\u001b[0m, in \u001b[0;36mStochasticVisionTransformer.forward\u001b[0;34m(self, img, return_attention)\u001b[0m\n\u001b[1;32m    382\u001b[0m \u001b[38;5;28;01mfor\u001b[39;00m i, block \u001b[38;5;129;01min\u001b[39;00m \u001b[38;5;28menumerate\u001b[39m(\u001b[38;5;28mself\u001b[39m\u001b[38;5;241m.\u001b[39mblocks):\n\u001b[1;32m    383\u001b[0m     i \u001b[38;5;241m=\u001b[39m i\u001b[38;5;241m+\u001b[39m\u001b[38;5;241m1\u001b[39m\n\u001b[0;32m--> 384\u001b[0m     scurr, snext, indices, attention_map \u001b[38;5;241m=\u001b[39m \u001b[43mblock\u001b[49m\u001b[43m(\u001b[49m\u001b[43mscurr\u001b[49m\u001b[43m,\u001b[49m\u001b[43m \u001b[49m\u001b[43msnext\u001b[49m\u001b[43m,\u001b[49m\u001b[43m \u001b[49m\u001b[43mindices\u001b[49m\u001b[43m,\u001b[49m\u001b[43m \u001b[49m\u001b[43mattention_map\u001b[49m\u001b[43m)\u001b[49m\n\u001b[1;32m    385\u001b[0m     cls_tokens\u001b[38;5;241m.\u001b[39mappend(scurr[:, \u001b[38;5;241m0\u001b[39m]\u001b[38;5;241m.\u001b[39munsqueeze(\u001b[38;5;241m1\u001b[39m)) \u001b[38;5;66;03m# Store the classification token\u001b[39;00m\n\u001b[1;32m    386\u001b[0m     scurr \u001b[38;5;241m=\u001b[39m snext\n",
      "File \u001b[0;32m~/miniconda3/lib/python3.10/site-packages/torch/nn/modules/module.py:1194\u001b[0m, in \u001b[0;36mModule._call_impl\u001b[0;34m(self, *input, **kwargs)\u001b[0m\n\u001b[1;32m   1190\u001b[0m \u001b[38;5;66;03m# If we don't have any hooks, we want to skip the rest of the logic in\u001b[39;00m\n\u001b[1;32m   1191\u001b[0m \u001b[38;5;66;03m# this function, and just call forward.\u001b[39;00m\n\u001b[1;32m   1192\u001b[0m \u001b[38;5;28;01mif\u001b[39;00m \u001b[38;5;129;01mnot\u001b[39;00m (\u001b[38;5;28mself\u001b[39m\u001b[38;5;241m.\u001b[39m_backward_hooks \u001b[38;5;129;01mor\u001b[39;00m \u001b[38;5;28mself\u001b[39m\u001b[38;5;241m.\u001b[39m_forward_hooks \u001b[38;5;129;01mor\u001b[39;00m \u001b[38;5;28mself\u001b[39m\u001b[38;5;241m.\u001b[39m_forward_pre_hooks \u001b[38;5;129;01mor\u001b[39;00m _global_backward_hooks\n\u001b[1;32m   1193\u001b[0m         \u001b[38;5;129;01mor\u001b[39;00m _global_forward_hooks \u001b[38;5;129;01mor\u001b[39;00m _global_forward_pre_hooks):\n\u001b[0;32m-> 1194\u001b[0m     \u001b[38;5;28;01mreturn\u001b[39;00m \u001b[43mforward_call\u001b[49m\u001b[43m(\u001b[49m\u001b[38;5;241;43m*\u001b[39;49m\u001b[38;5;28;43minput\u001b[39;49m\u001b[43m,\u001b[49m\u001b[43m \u001b[49m\u001b[38;5;241;43m*\u001b[39;49m\u001b[38;5;241;43m*\u001b[39;49m\u001b[43mkwargs\u001b[49m\u001b[43m)\u001b[49m\n\u001b[1;32m   1195\u001b[0m \u001b[38;5;66;03m# Do not call functions when jit is used\u001b[39;00m\n\u001b[1;32m   1196\u001b[0m full_backward_hooks, non_full_backward_hooks \u001b[38;5;241m=\u001b[39m [], []\n",
      "File \u001b[0;32m~/Documents/phd/experimentations/notebooks/../stochastic_attention.py:245\u001b[0m, in \u001b[0;36mBlockScales.forward\u001b[0;34m(self, curr_seq, next_seq, curr_seq_indices, sampling_map)\u001b[0m\n\u001b[1;32m    241\u001b[0m next_seq_indices \u001b[38;5;241m=\u001b[39m \u001b[38;5;28;01mNone\u001b[39;00m\n\u001b[1;32m    243\u001b[0m \u001b[38;5;28;01mif\u001b[39;00m \u001b[38;5;129;01mnot\u001b[39;00m is_final_block:\n\u001b[1;32m    244\u001b[0m     \u001b[38;5;66;03m# Resample the next sequence based on the updated sampling map\u001b[39;00m\n\u001b[0;32m--> 245\u001b[0m     next_seq, next_seq_indices \u001b[38;5;241m=\u001b[39m \u001b[38;5;28;43mself\u001b[39;49m\u001b[38;5;241;43m.\u001b[39;49m\u001b[43mstochastic_conditional_sampling\u001b[49m\u001b[43m(\u001b[49m\u001b[43mnext_seq\u001b[49m\u001b[43m,\u001b[49m\u001b[43m \u001b[49m\u001b[43mnext_sampling_map\u001b[49m\u001b[43m)\u001b[49m\n\u001b[1;32m    247\u001b[0m \u001b[38;5;28;01mreturn\u001b[39;00m curr_seq, next_seq, next_seq_indices, next_sampling_map\n",
      "File \u001b[0;32m~/Documents/phd/experimentations/notebooks/../stochastic_attention.py:324\u001b[0m, in \u001b[0;36mBlockScales.stochastic_conditional_sampling\u001b[0;34m(self, sequence, sampling_map)\u001b[0m\n\u001b[1;32m    322\u001b[0m sequence \u001b[38;5;241m=\u001b[39m sequence[:, \u001b[38;5;241m1\u001b[39m:, :]\n\u001b[1;32m    323\u001b[0m _, N2, _ \u001b[38;5;241m=\u001b[39m sequence\u001b[38;5;241m.\u001b[39mshape\n\u001b[0;32m--> 324\u001b[0m \u001b[38;5;28;01massert\u001b[39;00m sampling_map\u001b[38;5;241m.\u001b[39mshape[\u001b[38;5;241m1\u001b[39m] \u001b[38;5;241m==\u001b[39m N2\n\u001b[1;32m    325\u001b[0m \u001b[38;5;66;03m# Sampling\u001b[39;00m\n\u001b[1;32m    326\u001b[0m \u001b[38;5;28;01mif\u001b[39;00m N2 \u001b[38;5;241m>\u001b[39m \u001b[38;5;28mself\u001b[39m\u001b[38;5;241m.\u001b[39mmax_tokens:\n",
      "\u001b[0;31mAssertionError\u001b[0m: "
     ]
    }
   ],
   "source": [
    "import torch\n",
    "model = create_model('svt_16_small', num_classes=1000, img_size=512, max_tokens=256, pretrained=False, scales=3, projection_stride=4)\n",
    "foo = torch.randn(2, 3, 512, 512)\n",
    "pred, attn = model(foo)"
   ]
  },
  {
   "cell_type": "code",
   "execution_count": 15,
   "id": "9fe4ce92-c52b-47ab-b14d-3530733aa83d",
   "metadata": {},
   "outputs": [
    {
     "data": {
      "text/plain": [
       "torch.Size([1000])"
      ]
     },
     "execution_count": 15,
     "metadata": {},
     "output_type": "execute_result"
    }
   ],
   "source": []
  },
  {
   "cell_type": "code",
   "execution_count": null,
   "id": "54b3fa88-dbef-4b80-a0a6-a626def3c038",
   "metadata": {},
   "outputs": [],
   "source": []
  }
 ],
 "metadata": {
  "kernelspec": {
   "display_name": "Python 3 (ipykernel)",
   "language": "python",
   "name": "python3"
  },
  "language_info": {
   "codemirror_mode": {
    "name": "ipython",
    "version": 3
   },
   "file_extension": ".py",
   "mimetype": "text/x-python",
   "name": "python",
   "nbconvert_exporter": "python",
   "pygments_lexer": "ipython3",
   "version": "3.10.12"
  }
 },
 "nbformat": 4,
 "nbformat_minor": 5
}
