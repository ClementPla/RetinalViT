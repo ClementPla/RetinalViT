{
 "cells": [
  {
   "cell_type": "code",
   "execution_count": 356,
   "metadata": {},
   "outputs": [],
   "source": [
    "import matplotlib.pyplot as plt\n",
    "import torch\n",
    "import torch.nn.functional as F\n",
    "from torch_geometric.utils import to_dense_adj, coalesce, to_undirected, remove_self_loops\n",
    "from vitRet.data.segmentation import MaplesDR\n",
    "import numpy as np\n",
    "import itertools"
   ]
  },
  {
   "cell_type": "code",
   "execution_count": 357,
   "metadata": {},
   "outputs": [],
   "source": [
    "datamodule = MaplesDR(\"/usagers/clpla/data/Maples-DR/\", num_workers=4, batch_size=3, superpixels_nb=1024)\n",
    "datamodule.setup(\"test\")\n",
    "dataloader = datamodule.test_dataloader()\n",
    "batch = next(iter(dataloader))\n",
    "segments = batch['segments']\n",
    "segments = segments.unsqueeze(1)\n",
    "\n"
   ]
  },
  {
   "cell_type": "code",
   "execution_count": 358,
   "metadata": {},
   "outputs": [
    {
     "data": {
      "image/png": "[encoded data removed]",
      "text/plain": [
       "<Figure size 640x480 with 1 Axes>"
      ]
     },
     "metadata": {},
     "output_type": "display_data"
    }
   ],
   "source": [
    "segments = torch.zeros((3,1,128,128))\n",
    "segments[1,:, :32, :32] = 1\n",
    "segments[1,:, :64, 32:64] = 2\n",
    "segments[1,:, :32, 64:96] = 3\n",
    "\n",
    "segments[1,:, 8:24, 48:56] = 4\n",
    "\n",
    "\n",
    "\n",
    "plt.imshow(segments[1, 0], cmap='RdYlGn', interpolation='nearest')\n",
    "plt.show()"
   ]
  },
  {
   "cell_type": "code",
   "execution_count": 359,
   "metadata": {},
   "outputs": [],
   "source": [
    "def get_super_adjacency(segments:torch.Tensor, keep_self_loops:bool=False):\n",
    "    \"\"\"\n",
    "    Return the adjacency matrix for the segments map. \n",
    "    Each value of the adjacency matrix corresponds to the number neighboring of pixels \n",
    "    Note that that there is an ambiguity for pixels in the image's border. \n",
    "    By default, we pad the image.\n",
    "    segments: tensor (type int64) of shape BxWxH\n",
    "    \"\"\"\n",
    "    # Maximum number of segments in the batch\n",
    "    n_segments = torch.amax(segments) + 1\n",
    "    \n",
    "    b = segments.shape[0]\n",
    "    \n",
    "    segments_per_image = (torch.amax(segments, dim=(1,2,3)) + 1).long()\n",
    "    \n",
    "    cum_sum = torch.cumsum(segments_per_image, -1)\n",
    "    cum_sum = torch.roll(cum_sum, 1)\n",
    "    cum_sum[0] = 0 \n",
    "    \n",
    "    # We reindex each segment in increasing order along the batch dimension\n",
    "    indexed_segments = segments + cum_sum.view(-1, 1, 1, 1)\n",
    "    \n",
    "    # For each pixel, this kernel extracts its neighbours (connectivity 4)\n",
    "    kernel = torch.zeros(4,1,2,2, device=segments.device, dtype=torch.float)\n",
    "    kernel[0,:,0, 0] = 1\n",
    "    kernel[1,:,0, 1] = 1\n",
    "    kernel[2,:,0, 0] = 1\n",
    "    kernel[3,:,1, 0] = 1\n",
    "    indexed_segments = F.pad(indexed_segments, (0, 1, 0, 1), mode='reflect')\n",
    "    neighbours = F.conv2d(indexed_segments.float(), kernel)\n",
    "    \n",
    "    # For each segment, we track its batch position\n",
    "    batch_index = torch.arange(0, b).repeat_interleave(segments_per_image)\n",
    "    \n",
    "    def adj_from_edge_index(edge_index):\n",
    "        if not keep_self_loops:\n",
    "            edge_index, _ = remove_self_loops(edge_index=edge_index)\n",
    "        adj = to_dense_adj(edge_index, \n",
    "                        batch=batch_index, \n",
    "                        batch_size=b, \n",
    "                        max_num_nodes=int(n_segments))\n",
    "        adj = (adj + adj.permute(0,2,1)) / 2\n",
    "        if keep_self_loops:\n",
    "            diag = torch.diagonal(adj, dim1=-2, dim2=-1)\n",
    "            diag /= 2\n",
    "        return adj\n",
    "    \n",
    "    edge_index_horizontal = neighbours.permute(1,0,2,3)[:2].reshape(2, -1).long()\n",
    "    edge_index_vertical = neighbours.permute(1,0,2,3)[2:].reshape(2, -1).long()\n",
    "    \n",
    "    edge_index = torch.cat([edge_index_horizontal, edge_index_vertical], 1)\n",
    "    # 2 x 2*n_edges (H-1 x W-1)\n",
    "    \n",
    "    adj = adj_from_edge_index(edge_index)\n",
    "    return adj, edge_index\n",
    "\n",
    "\n",
    "adj, edge_index = get_super_adjacency(segments=segments, keep_self_loops=True)"
   ]
  },
  {
   "cell_type": "code",
   "execution_count": 364,
   "metadata": {},
   "outputs": [
    {
     "data": {
      "text/plain": [
       "tensor([[0, 1, 1, 2, 2, 2, 3, 3, 3, 3, 4, 4, 5, 5, 6],\n",
       "        [0, 1, 3, 1, 2, 3, 1, 3, 4, 5, 1, 4, 3, 5, 6]])"
      ]
     },
     "execution_count": 364,
     "metadata": {},
     "output_type": "execute_result"
    }
   ],
   "source": [
    "coalesced_indices = coalesce(edge_index)\n",
    "coalesced_indices"
   ]
  },
  {
   "cell_type": "code",
   "execution_count": 369,
   "metadata": {},
   "outputs": [],
   "source": [
    "n_segments = adj.shape[1]\n",
    "\n",
    "joined_indices = torch.arange(n_segments)\n",
    "for j in joined_indices:\n",
    "    \n",
    "for i in range(n_segments):\n",
    "    for j in range(n_segments):\n",
    "        pass"
   ]
  },
  {
   "cell_type": "code",
   "execution_count": 367,
   "metadata": {},
   "outputs": [
    {
     "data": {
      "text/plain": [
       "tensor(5.)"
      ]
     },
     "execution_count": 367,
     "metadata": {},
     "output_type": "execute_result"
    }
   ],
   "source": [
    "n_segments"
   ]
  },
  {
   "cell_type": "code",
   "execution_count": null,
   "metadata": {},
   "outputs": [],
   "source": []
  }
 ],
 "metadata": {
  "kernelspec": {
   "display_name": "torch18",
   "language": "python",
   "name": "python3"
  },
  "language_info": {
   "codemirror_mode": {
    "name": "ipython",
    "version": 3
   },
   "file_extension": ".py",
   "mimetype": "text/x-python",
   "name": "python",
   "nbconvert_exporter": "python",
   "pygments_lexer": "ipython3",
   "version": "3.9.18"
  }
 },
 "nbformat": 4,
 "nbformat_minor": 2
}
